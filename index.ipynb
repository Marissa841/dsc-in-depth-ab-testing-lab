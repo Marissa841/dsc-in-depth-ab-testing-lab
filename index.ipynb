{
 "cells": [
  {
   "cell_type": "markdown",
   "metadata": {},
   "source": [
    "# In Depth A/B Testing - Lab\n",
    "\n",
    "## Introduction\n",
    "\n",
    "In this lab, you'll explore a survey from Kaggle regarding budding data scientists. With this, you'll form some initial hypotheses, and test them using the tools you've acquired to date. \n",
    "\n",
    "## Objectives\n",
    "\n",
    "You will be able to:\n",
    "* Conduct t-tests and an ANOVA on a real-world dataset and interpret the results"
   ]
  },
  {
   "cell_type": "markdown",
   "metadata": {},
   "source": [
    "## Load the Dataset and Perform a Brief Exploration\n",
    "\n",
    "The data is stored in a file called **multipleChoiceResponses_cleaned.csv**. Feel free to check out the original dataset referenced at the bottom of this lab, although this cleaned version will undoubtedly be easier to work with. Additionally, meta-data regarding the questions is stored in a file name **schema.csv**. Load in the data itself as a Pandas DataFrame, and take a moment to briefly get acquainted with it.\n",
    "\n",
    "> Note: If you can't get the file to load properly, try changing the encoding format as in `encoding='latin1'`"
   ]
  },
  {
   "cell_type": "code",
   "execution_count": 117,
   "metadata": {},
   "outputs": [],
   "source": [
    "import pandas as pd\n",
    "from scipy.stats import ttest_ind\n",
    "import seaborn as sns\n",
    "import matplotlib.pyplot as plt\n",
    "from statsmodels.formula.api import ols\n",
    "import statsmodels.api as sm"
   ]
  },
  {
   "cell_type": "code",
   "execution_count": 25,
   "metadata": {},
   "outputs": [
    {
     "data": {
      "text/html": [
       "<div>\n",
       "<style scoped>\n",
       "    .dataframe tbody tr th:only-of-type {\n",
       "        vertical-align: middle;\n",
       "    }\n",
       "\n",
       "    .dataframe tbody tr th {\n",
       "        vertical-align: top;\n",
       "    }\n",
       "\n",
       "    .dataframe thead th {\n",
       "        text-align: right;\n",
       "    }\n",
       "</style>\n",
       "<table border=\"1\" class=\"dataframe\">\n",
       "  <thead>\n",
       "    <tr style=\"text-align: right;\">\n",
       "      <th></th>\n",
       "      <th>GenderSelect</th>\n",
       "      <th>Country</th>\n",
       "      <th>Age</th>\n",
       "      <th>EmploymentStatus</th>\n",
       "      <th>StudentStatus</th>\n",
       "      <th>LearningDataScience</th>\n",
       "      <th>CodeWriter</th>\n",
       "      <th>CareerSwitcher</th>\n",
       "      <th>CurrentJobTitleSelect</th>\n",
       "      <th>TitleFit</th>\n",
       "      <th>...</th>\n",
       "      <th>JobFactorTitle</th>\n",
       "      <th>JobFactorCompanyFunding</th>\n",
       "      <th>JobFactorImpact</th>\n",
       "      <th>JobFactorRemote</th>\n",
       "      <th>JobFactorIndustry</th>\n",
       "      <th>JobFactorLeaderReputation</th>\n",
       "      <th>JobFactorDiversity</th>\n",
       "      <th>JobFactorPublishingOpportunity</th>\n",
       "      <th>exchangeRate</th>\n",
       "      <th>AdjustedCompensation</th>\n",
       "    </tr>\n",
       "  </thead>\n",
       "  <tbody>\n",
       "    <tr>\n",
       "      <th>0</th>\n",
       "      <td>Non-binary, genderqueer, or gender non-conforming</td>\n",
       "      <td>NaN</td>\n",
       "      <td>NaN</td>\n",
       "      <td>Employed full-time</td>\n",
       "      <td>NaN</td>\n",
       "      <td>NaN</td>\n",
       "      <td>Yes</td>\n",
       "      <td>NaN</td>\n",
       "      <td>DBA/Database Engineer</td>\n",
       "      <td>Fine</td>\n",
       "      <td>...</td>\n",
       "      <td>NaN</td>\n",
       "      <td>NaN</td>\n",
       "      <td>NaN</td>\n",
       "      <td>NaN</td>\n",
       "      <td>NaN</td>\n",
       "      <td>NaN</td>\n",
       "      <td>NaN</td>\n",
       "      <td>NaN</td>\n",
       "      <td>NaN</td>\n",
       "      <td>NaN</td>\n",
       "    </tr>\n",
       "    <tr>\n",
       "      <th>1</th>\n",
       "      <td>Female</td>\n",
       "      <td>United States</td>\n",
       "      <td>30.0</td>\n",
       "      <td>Not employed, but looking for work</td>\n",
       "      <td>NaN</td>\n",
       "      <td>NaN</td>\n",
       "      <td>NaN</td>\n",
       "      <td>NaN</td>\n",
       "      <td>NaN</td>\n",
       "      <td>NaN</td>\n",
       "      <td>...</td>\n",
       "      <td>NaN</td>\n",
       "      <td>NaN</td>\n",
       "      <td>NaN</td>\n",
       "      <td>NaN</td>\n",
       "      <td>NaN</td>\n",
       "      <td>Somewhat important</td>\n",
       "      <td>NaN</td>\n",
       "      <td>NaN</td>\n",
       "      <td>NaN</td>\n",
       "      <td>NaN</td>\n",
       "    </tr>\n",
       "    <tr>\n",
       "      <th>2</th>\n",
       "      <td>Male</td>\n",
       "      <td>Canada</td>\n",
       "      <td>28.0</td>\n",
       "      <td>Not employed, but looking for work</td>\n",
       "      <td>NaN</td>\n",
       "      <td>NaN</td>\n",
       "      <td>NaN</td>\n",
       "      <td>NaN</td>\n",
       "      <td>NaN</td>\n",
       "      <td>NaN</td>\n",
       "      <td>...</td>\n",
       "      <td>Very Important</td>\n",
       "      <td>Very Important</td>\n",
       "      <td>Very Important</td>\n",
       "      <td>Very Important</td>\n",
       "      <td>Very Important</td>\n",
       "      <td>Very Important</td>\n",
       "      <td>Very Important</td>\n",
       "      <td>Very Important</td>\n",
       "      <td>NaN</td>\n",
       "      <td>NaN</td>\n",
       "    </tr>\n",
       "    <tr>\n",
       "      <th>3</th>\n",
       "      <td>Male</td>\n",
       "      <td>United States</td>\n",
       "      <td>56.0</td>\n",
       "      <td>Independent contractor, freelancer, or self-em...</td>\n",
       "      <td>NaN</td>\n",
       "      <td>NaN</td>\n",
       "      <td>Yes</td>\n",
       "      <td>NaN</td>\n",
       "      <td>Operations Research Practitioner</td>\n",
       "      <td>Poorly</td>\n",
       "      <td>...</td>\n",
       "      <td>NaN</td>\n",
       "      <td>NaN</td>\n",
       "      <td>NaN</td>\n",
       "      <td>NaN</td>\n",
       "      <td>NaN</td>\n",
       "      <td>NaN</td>\n",
       "      <td>NaN</td>\n",
       "      <td>NaN</td>\n",
       "      <td>1.0</td>\n",
       "      <td>250000.0</td>\n",
       "    </tr>\n",
       "    <tr>\n",
       "      <th>4</th>\n",
       "      <td>Male</td>\n",
       "      <td>Taiwan</td>\n",
       "      <td>38.0</td>\n",
       "      <td>Employed full-time</td>\n",
       "      <td>NaN</td>\n",
       "      <td>NaN</td>\n",
       "      <td>Yes</td>\n",
       "      <td>NaN</td>\n",
       "      <td>Computer Scientist</td>\n",
       "      <td>Fine</td>\n",
       "      <td>...</td>\n",
       "      <td>NaN</td>\n",
       "      <td>NaN</td>\n",
       "      <td>NaN</td>\n",
       "      <td>NaN</td>\n",
       "      <td>NaN</td>\n",
       "      <td>NaN</td>\n",
       "      <td>NaN</td>\n",
       "      <td>NaN</td>\n",
       "      <td>NaN</td>\n",
       "      <td>NaN</td>\n",
       "    </tr>\n",
       "  </tbody>\n",
       "</table>\n",
       "<p>5 rows × 230 columns</p>\n",
       "</div>"
      ],
      "text/plain": [
       "                                        GenderSelect        Country   Age  \\\n",
       "0  Non-binary, genderqueer, or gender non-conforming            NaN   NaN   \n",
       "1                                             Female  United States  30.0   \n",
       "2                                               Male         Canada  28.0   \n",
       "3                                               Male  United States  56.0   \n",
       "4                                               Male         Taiwan  38.0   \n",
       "\n",
       "                                    EmploymentStatus StudentStatus  \\\n",
       "0                                 Employed full-time           NaN   \n",
       "1                 Not employed, but looking for work           NaN   \n",
       "2                 Not employed, but looking for work           NaN   \n",
       "3  Independent contractor, freelancer, or self-em...           NaN   \n",
       "4                                 Employed full-time           NaN   \n",
       "\n",
       "  LearningDataScience CodeWriter CareerSwitcher  \\\n",
       "0                 NaN        Yes            NaN   \n",
       "1                 NaN        NaN            NaN   \n",
       "2                 NaN        NaN            NaN   \n",
       "3                 NaN        Yes            NaN   \n",
       "4                 NaN        Yes            NaN   \n",
       "\n",
       "              CurrentJobTitleSelect TitleFit  ...  JobFactorTitle  \\\n",
       "0             DBA/Database Engineer     Fine  ...             NaN   \n",
       "1                               NaN      NaN  ...             NaN   \n",
       "2                               NaN      NaN  ...  Very Important   \n",
       "3  Operations Research Practitioner   Poorly  ...             NaN   \n",
       "4                Computer Scientist     Fine  ...             NaN   \n",
       "\n",
       "  JobFactorCompanyFunding JobFactorImpact JobFactorRemote JobFactorIndustry  \\\n",
       "0                     NaN             NaN             NaN               NaN   \n",
       "1                     NaN             NaN             NaN               NaN   \n",
       "2          Very Important  Very Important  Very Important    Very Important   \n",
       "3                     NaN             NaN             NaN               NaN   \n",
       "4                     NaN             NaN             NaN               NaN   \n",
       "\n",
       "  JobFactorLeaderReputation JobFactorDiversity JobFactorPublishingOpportunity  \\\n",
       "0                       NaN                NaN                            NaN   \n",
       "1        Somewhat important                NaN                            NaN   \n",
       "2            Very Important     Very Important                 Very Important   \n",
       "3                       NaN                NaN                            NaN   \n",
       "4                       NaN                NaN                            NaN   \n",
       "\n",
       "  exchangeRate AdjustedCompensation  \n",
       "0          NaN                  NaN  \n",
       "1          NaN                  NaN  \n",
       "2          NaN                  NaN  \n",
       "3          1.0             250000.0  \n",
       "4          NaN                  NaN  \n",
       "\n",
       "[5 rows x 230 columns]"
      ]
     },
     "execution_count": 25,
     "metadata": {},
     "output_type": "execute_result"
    }
   ],
   "source": [
    "df = pd.read_csv(\"multipleChoiceResponses_cleaned.csv\", encoding = 'latin1')\n",
    "df.head()"
   ]
  },
  {
   "cell_type": "code",
   "execution_count": 26,
   "metadata": {},
   "outputs": [
    {
     "data": {
      "text/plain": [
       "['GenderSelect',\n",
       " 'Country',\n",
       " 'Age',\n",
       " 'EmploymentStatus',\n",
       " 'StudentStatus',\n",
       " 'LearningDataScience',\n",
       " 'CodeWriter',\n",
       " 'CareerSwitcher',\n",
       " 'CurrentJobTitleSelect',\n",
       " 'TitleFit',\n",
       " 'CurrentEmployerType',\n",
       " 'MLToolNextYearSelect',\n",
       " 'MLMethodNextYearSelect',\n",
       " 'LanguageRecommendationSelect',\n",
       " 'PublicDatasetsSelect',\n",
       " 'LearningPlatformSelect',\n",
       " 'LearningPlatformUsefulnessArxiv',\n",
       " 'LearningPlatformUsefulnessBlogs',\n",
       " 'LearningPlatformUsefulnessCollege',\n",
       " 'LearningPlatformUsefulnessCompany',\n",
       " 'LearningPlatformUsefulnessConferences',\n",
       " 'LearningPlatformUsefulnessFriends',\n",
       " 'LearningPlatformUsefulnessKaggle',\n",
       " 'LearningPlatformUsefulnessNewsletters',\n",
       " 'LearningPlatformUsefulnessCommunities',\n",
       " 'LearningPlatformUsefulnessDocumentation',\n",
       " 'LearningPlatformUsefulnessCourses',\n",
       " 'LearningPlatformUsefulnessProjects',\n",
       " 'LearningPlatformUsefulnessPodcasts',\n",
       " 'LearningPlatformUsefulnessSO',\n",
       " 'LearningPlatformUsefulnessTextbook',\n",
       " 'LearningPlatformUsefulnessTradeBook',\n",
       " 'LearningPlatformUsefulnessTutoring',\n",
       " 'LearningPlatformUsefulnessYouTube',\n",
       " 'BlogsPodcastsNewslettersSelect',\n",
       " 'LearningDataScienceTime',\n",
       " 'JobSkillImportanceBigData',\n",
       " 'JobSkillImportanceDegree',\n",
       " 'JobSkillImportanceStats',\n",
       " 'JobSkillImportanceEnterpriseTools',\n",
       " 'JobSkillImportancePython',\n",
       " 'JobSkillImportanceR',\n",
       " 'JobSkillImportanceSQL',\n",
       " 'JobSkillImportanceKaggleRanking',\n",
       " 'JobSkillImportanceMOOC',\n",
       " 'JobSkillImportanceVisualizations',\n",
       " 'JobSkillImportanceOtherSelect1',\n",
       " 'JobSkillImportanceOtherSelect2',\n",
       " 'JobSkillImportanceOtherSelect3',\n",
       " 'CoursePlatformSelect',\n",
       " 'HardwarePersonalProjectsSelect',\n",
       " 'TimeSpentStudying',\n",
       " 'ProveKnowledgeSelect',\n",
       " 'DataScienceIdentitySelect',\n",
       " 'FormalEducation',\n",
       " 'MajorSelect',\n",
       " 'Tenure',\n",
       " 'PastJobTitlesSelect',\n",
       " 'FirstTrainingSelect',\n",
       " 'LearningCategorySelftTaught',\n",
       " 'LearningCategoryOnlineCourses',\n",
       " 'LearningCategoryWork',\n",
       " 'LearningCategoryUniversity',\n",
       " 'LearningCategoryKaggle',\n",
       " 'LearningCategoryOther',\n",
       " 'MLSkillsSelect',\n",
       " 'MLTechniquesSelect',\n",
       " 'ParentsEducation',\n",
       " 'EmployerIndustry',\n",
       " 'EmployerSize',\n",
       " 'EmployerSizeChange',\n",
       " 'EmployerMLTime',\n",
       " 'EmployerSearchMethod',\n",
       " 'UniversityImportance',\n",
       " 'JobFunctionSelect',\n",
       " 'WorkHardwareSelect',\n",
       " 'WorkDataTypeSelect',\n",
       " 'WorkProductionFrequency',\n",
       " 'WorkDatasetSize',\n",
       " 'WorkAlgorithmsSelect',\n",
       " 'WorkToolsSelect',\n",
       " 'WorkToolsFrequencyAmazonML',\n",
       " 'WorkToolsFrequencyAWS',\n",
       " 'WorkToolsFrequencyAngoss',\n",
       " 'WorkToolsFrequencyC',\n",
       " 'WorkToolsFrequencyCloudera',\n",
       " 'WorkToolsFrequencyDataRobot',\n",
       " 'WorkToolsFrequencyFlume',\n",
       " 'WorkToolsFrequencyGCP',\n",
       " 'WorkToolsFrequencyHadoop',\n",
       " 'WorkToolsFrequencyIBMCognos',\n",
       " 'WorkToolsFrequencyIBMSPSSModeler',\n",
       " 'WorkToolsFrequencyIBMSPSSStatistics',\n",
       " 'WorkToolsFrequencyIBMWatson',\n",
       " 'WorkToolsFrequencyImpala',\n",
       " 'WorkToolsFrequencyJava',\n",
       " 'WorkToolsFrequencyJulia',\n",
       " 'WorkToolsFrequencyJupyter',\n",
       " 'WorkToolsFrequencyKNIMECommercial',\n",
       " 'WorkToolsFrequencyKNIMEFree',\n",
       " 'WorkToolsFrequencyMathematica',\n",
       " 'WorkToolsFrequencyMATLAB',\n",
       " 'WorkToolsFrequencyAzure',\n",
       " 'WorkToolsFrequencyExcel',\n",
       " 'WorkToolsFrequencyMicrosoftRServer',\n",
       " 'WorkToolsFrequencyMicrosoftSQL',\n",
       " 'WorkToolsFrequencyMinitab',\n",
       " 'WorkToolsFrequencyNoSQL',\n",
       " 'WorkToolsFrequencyOracle',\n",
       " 'WorkToolsFrequencyOrange',\n",
       " 'WorkToolsFrequencyPerl',\n",
       " 'WorkToolsFrequencyPython',\n",
       " 'WorkToolsFrequencyQlik',\n",
       " 'WorkToolsFrequencyR',\n",
       " 'WorkToolsFrequencyRapidMinerCommercial',\n",
       " 'WorkToolsFrequencyRapidMinerFree',\n",
       " 'WorkToolsFrequencySalfrod',\n",
       " 'WorkToolsFrequencySAPBusinessObjects',\n",
       " 'WorkToolsFrequencySASBase',\n",
       " 'WorkToolsFrequencySASEnterprise',\n",
       " 'WorkToolsFrequencySASJMP',\n",
       " 'WorkToolsFrequencySpark',\n",
       " 'WorkToolsFrequencySQL',\n",
       " 'WorkToolsFrequencyStan',\n",
       " 'WorkToolsFrequencyStatistica',\n",
       " 'WorkToolsFrequencyTableau',\n",
       " 'WorkToolsFrequencyTensorFlow',\n",
       " 'WorkToolsFrequencyTIBCO',\n",
       " 'WorkToolsFrequencyUnix',\n",
       " 'WorkToolsFrequencySelect1',\n",
       " 'WorkToolsFrequencySelect2',\n",
       " 'WorkFrequencySelect3',\n",
       " 'WorkMethodsSelect',\n",
       " 'WorkMethodsFrequencyA/B',\n",
       " 'WorkMethodsFrequencyAssociationRules',\n",
       " 'WorkMethodsFrequencyBayesian',\n",
       " 'WorkMethodsFrequencyCNNs',\n",
       " 'WorkMethodsFrequencyCollaborativeFiltering',\n",
       " 'WorkMethodsFrequencyCross-Validation',\n",
       " 'WorkMethodsFrequencyDataVisualization',\n",
       " 'WorkMethodsFrequencyDecisionTrees',\n",
       " 'WorkMethodsFrequencyEnsembleMethods',\n",
       " 'WorkMethodsFrequencyEvolutionaryApproaches',\n",
       " 'WorkMethodsFrequencyGANs',\n",
       " 'WorkMethodsFrequencyGBM',\n",
       " 'WorkMethodsFrequencyHMMs',\n",
       " 'WorkMethodsFrequencyKNN',\n",
       " 'WorkMethodsFrequencyLiftAnalysis',\n",
       " 'WorkMethodsFrequencyLogisticRegression',\n",
       " 'WorkMethodsFrequencyMLN',\n",
       " 'WorkMethodsFrequencyNaiveBayes',\n",
       " 'WorkMethodsFrequencyNLP',\n",
       " 'WorkMethodsFrequencyNeuralNetworks',\n",
       " 'WorkMethodsFrequencyPCA',\n",
       " 'WorkMethodsFrequencyPrescriptiveModeling',\n",
       " 'WorkMethodsFrequencyRandomForests',\n",
       " 'WorkMethodsFrequencyRecommenderSystems',\n",
       " 'WorkMethodsFrequencyRNNs',\n",
       " 'WorkMethodsFrequencySegmentation',\n",
       " 'WorkMethodsFrequencySimulation',\n",
       " 'WorkMethodsFrequencySVMs',\n",
       " 'WorkMethodsFrequencyTextAnalysis',\n",
       " 'WorkMethodsFrequencyTimeSeriesAnalysis',\n",
       " 'WorkMethodsFrequencySelect1',\n",
       " 'WorkMethodsFrequencySelect2',\n",
       " 'WorkMethodsFrequencySelect3',\n",
       " 'TimeGatheringData',\n",
       " 'TimeModelBuilding',\n",
       " 'TimeProduction',\n",
       " 'TimeVisualizing',\n",
       " 'TimeFindingInsights',\n",
       " 'TimeOtherSelect',\n",
       " 'AlgorithmUnderstandingLevel',\n",
       " 'WorkChallengesSelect',\n",
       " 'WorkChallengeFrequencyPolitics',\n",
       " 'WorkChallengeFrequencyUnusedResults',\n",
       " 'WorkChallengeFrequencyUnusefulInstrumenting',\n",
       " 'WorkChallengeFrequencyDeployment',\n",
       " 'WorkChallengeFrequencyDirtyData',\n",
       " 'WorkChallengeFrequencyExplaining',\n",
       " 'WorkChallengeFrequencyPass',\n",
       " 'WorkChallengeFrequencyIntegration',\n",
       " 'WorkChallengeFrequencyTalent',\n",
       " 'WorkChallengeFrequencyDataFunds',\n",
       " 'WorkChallengeFrequencyDomainExpertise',\n",
       " 'WorkChallengeFrequencyML',\n",
       " 'WorkChallengeFrequencyTools',\n",
       " 'WorkChallengeFrequencyExpectations',\n",
       " 'WorkChallengeFrequencyITCoordination',\n",
       " 'WorkChallengeFrequencyHiringFunds',\n",
       " 'WorkChallengeFrequencyPrivacy',\n",
       " 'WorkChallengeFrequencyScaling',\n",
       " 'WorkChallengeFrequencyEnvironments',\n",
       " 'WorkChallengeFrequencyClarity',\n",
       " 'WorkChallengeFrequencyDataAccess',\n",
       " 'WorkChallengeFrequencyOtherSelect',\n",
       " 'WorkDataVisualizations',\n",
       " 'WorkInternalVsExternalTools',\n",
       " 'WorkMLTeamSeatSelect',\n",
       " 'WorkDatasets',\n",
       " 'WorkDatasetsChallenge',\n",
       " 'WorkDataStorage',\n",
       " 'WorkDataSharing',\n",
       " 'WorkDataSourcing',\n",
       " 'WorkCodeSharing',\n",
       " 'RemoteWork',\n",
       " 'CompensationAmount',\n",
       " 'CompensationCurrency',\n",
       " 'SalaryChange',\n",
       " 'JobSatisfaction',\n",
       " 'JobSearchResource',\n",
       " 'JobHuntTime',\n",
       " 'JobFactorLearning',\n",
       " 'JobFactorSalary',\n",
       " 'JobFactorOffice',\n",
       " 'JobFactorLanguages',\n",
       " 'JobFactorCommute',\n",
       " 'JobFactorManagement',\n",
       " 'JobFactorExperienceLevel',\n",
       " 'JobFactorDepartment',\n",
       " 'JobFactorTitle',\n",
       " 'JobFactorCompanyFunding',\n",
       " 'JobFactorImpact',\n",
       " 'JobFactorRemote',\n",
       " 'JobFactorIndustry',\n",
       " 'JobFactorLeaderReputation',\n",
       " 'JobFactorDiversity',\n",
       " 'JobFactorPublishingOpportunity',\n",
       " 'exchangeRate',\n",
       " 'AdjustedCompensation']"
      ]
     },
     "execution_count": 26,
     "metadata": {},
     "output_type": "execute_result"
    }
   ],
   "source": [
    "list(df.columns)"
   ]
  },
  {
   "cell_type": "code",
   "execution_count": 4,
   "metadata": {},
   "outputs": [],
   "source": [
    "#Your code here"
   ]
  },
  {
   "cell_type": "markdown",
   "metadata": {},
   "source": [
    "## Wages and Education\n",
    "\n",
    "You've been asked to determine whether education is impactful to salary. Develop a hypothesis test to compare the salaries of those with Master's degrees to those with Bachelor's degrees. Are the two statistically different according to your results?\n",
    "\n",
    "> Note: The relevant features are stored in the 'FormalEducation' and 'AdjustedCompensation' features.\n",
    "\n",
    "You may import the functions stored in the `flatiron_stats.py` file to help perform your hypothesis tests. It contains the stats functions that you previously coded: `welch_t(a,b)`, `welch_df(a, b)`, and `p_value(a, b, two_sided=False)`. \n",
    "\n",
    "Note that `scipy.stats.ttest_ind(a, b, equal_var=False)` performs a two-sided Welch's t-test and that p-values derived from two-sided tests are two times the p-values derived from one-sided tests. See the [documentation](https://docs.scipy.org/doc/scipy/reference/generated/scipy.stats.ttest_ind.html) for more information.    "
   ]
  },
  {
   "cell_type": "code",
   "execution_count": 30,
   "metadata": {},
   "outputs": [
    {
     "data": {
      "text/plain": [
       "Master's degree                                                      8204\n",
       "Bachelor's degree                                                    4811\n",
       "Doctoral degree                                                      3543\n",
       "Some college/university study without earning a bachelor's degree     786\n",
       "Professional degree                                                   451\n",
       "I did not complete any formal education past high school              257\n",
       "I prefer not to answer                                                 90\n",
       "Name: FormalEducation, dtype: int64"
      ]
     },
     "execution_count": 30,
     "metadata": {},
     "output_type": "execute_result"
    }
   ],
   "source": [
    "df['FormalEducation'].value_counts()"
   ]
  },
  {
   "cell_type": "code",
   "execution_count": 32,
   "metadata": {},
   "outputs": [
    {
     "data": {
      "text/plain": [
       "100000.000000    60\n",
       "120000.000000    59\n",
       "150000.000000    58\n",
       "71749.560000     47\n",
       "50000.000000     45\n",
       "                 ..\n",
       "70786.560000      1\n",
       "6880.782804       1\n",
       "36344.944000      1\n",
       "106563.600000     1\n",
       "48126.250000      1\n",
       "Name: AdjustedCompensation, Length: 1627, dtype: int64"
      ]
     },
     "execution_count": 32,
     "metadata": {},
     "output_type": "execute_result"
    }
   ],
   "source": [
    "df['AdjustedCompensation'].value_counts()"
   ]
  },
  {
   "cell_type": "code",
   "execution_count": 38,
   "metadata": {},
   "outputs": [
    {
     "data": {
      "text/plain": [
       "28297400000.0"
      ]
     },
     "execution_count": 38,
     "metadata": {},
     "output_type": "execute_result"
    }
   ],
   "source": [
    "df['AdjustedCompensation'].max()"
   ]
  },
  {
   "cell_type": "code",
   "execution_count": 37,
   "metadata": {},
   "outputs": [
    {
     "data": {
      "text/html": [
       "<div>\n",
       "<style scoped>\n",
       "    .dataframe tbody tr th:only-of-type {\n",
       "        vertical-align: middle;\n",
       "    }\n",
       "\n",
       "    .dataframe tbody tr th {\n",
       "        vertical-align: top;\n",
       "    }\n",
       "\n",
       "    .dataframe thead th {\n",
       "        text-align: right;\n",
       "    }\n",
       "</style>\n",
       "<table border=\"1\" class=\"dataframe\">\n",
       "  <thead>\n",
       "    <tr style=\"text-align: right;\">\n",
       "      <th></th>\n",
       "      <th>GenderSelect</th>\n",
       "      <th>Country</th>\n",
       "      <th>Age</th>\n",
       "      <th>EmploymentStatus</th>\n",
       "      <th>StudentStatus</th>\n",
       "      <th>LearningDataScience</th>\n",
       "      <th>CodeWriter</th>\n",
       "      <th>CareerSwitcher</th>\n",
       "      <th>CurrentJobTitleSelect</th>\n",
       "      <th>TitleFit</th>\n",
       "      <th>...</th>\n",
       "      <th>JobFactorTitle</th>\n",
       "      <th>JobFactorCompanyFunding</th>\n",
       "      <th>JobFactorImpact</th>\n",
       "      <th>JobFactorRemote</th>\n",
       "      <th>JobFactorIndustry</th>\n",
       "      <th>JobFactorLeaderReputation</th>\n",
       "      <th>JobFactorDiversity</th>\n",
       "      <th>JobFactorPublishingOpportunity</th>\n",
       "      <th>exchangeRate</th>\n",
       "      <th>AdjustedCompensation</th>\n",
       "    </tr>\n",
       "  </thead>\n",
       "  <tbody>\n",
       "    <tr>\n",
       "      <th>5477</th>\n",
       "      <td>A different identity</td>\n",
       "      <td>United Kingdom</td>\n",
       "      <td>100.0</td>\n",
       "      <td>Employed full-time</td>\n",
       "      <td>NaN</td>\n",
       "      <td>NaN</td>\n",
       "      <td>Yes</td>\n",
       "      <td>NaN</td>\n",
       "      <td>Statistician</td>\n",
       "      <td>Fine</td>\n",
       "      <td>...</td>\n",
       "      <td>NaN</td>\n",
       "      <td>NaN</td>\n",
       "      <td>NaN</td>\n",
       "      <td>NaN</td>\n",
       "      <td>NaN</td>\n",
       "      <td>NaN</td>\n",
       "      <td>NaN</td>\n",
       "      <td>NaN</td>\n",
       "      <td>0.282974</td>\n",
       "      <td>2.829740e+10</td>\n",
       "    </tr>\n",
       "  </tbody>\n",
       "</table>\n",
       "<p>1 rows × 230 columns</p>\n",
       "</div>"
      ],
      "text/plain": [
       "              GenderSelect         Country    Age    EmploymentStatus  \\\n",
       "5477  A different identity  United Kingdom  100.0  Employed full-time   \n",
       "\n",
       "     StudentStatus LearningDataScience CodeWriter CareerSwitcher  \\\n",
       "5477           NaN                 NaN        Yes            NaN   \n",
       "\n",
       "     CurrentJobTitleSelect TitleFit  ... JobFactorTitle  \\\n",
       "5477          Statistician     Fine  ...            NaN   \n",
       "\n",
       "     JobFactorCompanyFunding JobFactorImpact JobFactorRemote  \\\n",
       "5477                     NaN             NaN             NaN   \n",
       "\n",
       "     JobFactorIndustry JobFactorLeaderReputation JobFactorDiversity  \\\n",
       "5477               NaN                       NaN                NaN   \n",
       "\n",
       "     JobFactorPublishingOpportunity exchangeRate AdjustedCompensation  \n",
       "5477                            NaN     0.282974         2.829740e+10  \n",
       "\n",
       "[1 rows x 230 columns]"
      ]
     },
     "execution_count": 37,
     "metadata": {},
     "output_type": "execute_result"
    }
   ],
   "source": [
    "df[df['AdjustedCompensation'] == df['AdjustedCompensation'].max()]"
   ]
  },
  {
   "cell_type": "code",
   "execution_count": 59,
   "metadata": {},
   "outputs": [],
   "source": [
    "df_bach = df[df['FormalEducation'] == \"Bachelor's degree\"]['AdjustedCompensation'].copy()\n",
    "df_bach.dropna(inplace = True)"
   ]
  },
  {
   "cell_type": "code",
   "execution_count": 61,
   "metadata": {},
   "outputs": [],
   "source": [
    "df_mast = df[df['FormalEducation'] == \"Master's degree\"]['AdjustedCompensation'].copy()\n",
    "df_mast.dropna(inplace = True)"
   ]
  },
  {
   "cell_type": "code",
   "execution_count": 76,
   "metadata": {},
   "outputs": [
    {
     "name": "stdout",
     "output_type": "stream",
     "text": [
      "Median Salary for Bachelor's degree 38399.4\n",
      "Median Salary for Masters degree 53812.17000000001\n",
      "Sample Size for Bachelor's degree 1107\n",
      "Sample Size for Masters degree 1990\n"
     ]
    },
    {
     "data": {
      "image/png": "[encoded data removed]",
      "text/plain": [
       "<Figure size 864x576 with 1 Axes>"
      ]
     },
     "metadata": {},
     "output_type": "display_data"
    }
   ],
   "source": [
    "print(f\"Median Salary for Bachelor's degree {df_bach.median()}\")\n",
    "print(f\"Median Salary for Masters degree {df_mast.median()}\")\n",
    "\n",
    "\n",
    "print(f\"Sample Size for Bachelor's degree {len(df_bach)}\")\n",
    "print(f\"Sample Size for Masters degree {len(df_mast)}\")\n",
    "\n",
    "with plt.style.context('fivethirtyeight'):\n",
    "    sns.set_context('poster')\n",
    "    plt.figure(figsize = (12, 8))\n",
    "    sns.distplot(df_bach, label = 'bach')\n",
    "    sns.distplot(df_mast, label = 'mast')\n",
    "    plt.legend()"
   ]
  },
  {
   "cell_type": "code",
   "execution_count": 70,
   "metadata": {},
   "outputs": [],
   "source": [
    "# df['AdjustedCompensation'].isnull().sum()"
   ]
  },
  {
   "cell_type": "code",
   "execution_count": null,
   "metadata": {},
   "outputs": [],
   "source": [
    "# Null Hypothesis: Salary for Bach = Salary for Mast\n",
    "# Alternative Hypothesis: Salary for Bach != Salary for Mast"
   ]
  },
  {
   "cell_type": "code",
   "execution_count": 79,
   "metadata": {},
   "outputs": [
    {
     "data": {
      "text/plain": [
       "(94209629758.56929, 18367624245.044666)"
      ]
     },
     "execution_count": 79,
     "metadata": {},
     "output_type": "execute_result"
    }
   ],
   "source": [
    "# df_bach.var(), df_mast.var()"
   ]
  },
  {
   "cell_type": "code",
   "execution_count": 78,
   "metadata": {},
   "outputs": [
    {
     "data": {
      "text/plain": [
       "0.33077639451272445"
      ]
     },
     "execution_count": 78,
     "metadata": {},
     "output_type": "execute_result"
    }
   ],
   "source": [
    "ttest_ind(df_bach, df_mast, equal_var = False)[1] / 2\n",
    "# fail to reject the null hypothesis"
   ]
  },
  {
   "cell_type": "code",
   "execution_count": 80,
   "metadata": {},
   "outputs": [],
   "source": [
    "df_bach_200 = df_bach[df_bach < 200000]\n",
    "df_mast_200 = df_mast[df_mast < 200000]"
   ]
  },
  {
   "cell_type": "code",
   "execution_count": 81,
   "metadata": {},
   "outputs": [
    {
     "name": "stdout",
     "output_type": "stream",
     "text": [
      "Median Salary for Bachelor's degree 35874.78\n",
      "Median Salary for Masters degree 50224.692\n",
      "Sample Size for Bachelor's degree 1075\n",
      "Sample Size for Masters degree 1929\n"
     ]
    },
    {
     "data": {
      "image/png": "[encoded data removed]",
      "text/plain": [
       "<Figure size 864x576 with 1 Axes>"
      ]
     },
     "metadata": {},
     "output_type": "display_data"
    }
   ],
   "source": [
    "print(f\"Median Salary for Bachelor's degree {df_bach_200.median()}\")\n",
    "print(f\"Median Salary for Masters degree {df_mast_200.median()}\")\n",
    "\n",
    "\n",
    "print(f\"Sample Size for Bachelor's degree {len(df_bach_200)}\")\n",
    "print(f\"Sample Size for Masters degree {len(df_mast_200)}\")\n",
    "\n",
    "with plt.style.context('fivethirtyeight'):\n",
    "    sns.set_context('poster')\n",
    "    plt.figure(figsize = (12, 8))\n",
    "    sns.distplot(df_bach_200, label = 'bach')\n",
    "    sns.distplot(df_mast_200, label = 'mast')\n",
    "    plt.legend()"
   ]
  },
  {
   "cell_type": "code",
   "execution_count": 83,
   "metadata": {},
   "outputs": [
    {
     "data": {
      "text/plain": [
       "Ttest_indResult(statistic=-5.940176705418014, pvalue=3.286681514092391e-09)"
      ]
     },
     "execution_count": 83,
     "metadata": {},
     "output_type": "execute_result"
    }
   ],
   "source": [
    "ttest_ind(df_bach_200, df_mast_200, equal_var = False)\n",
    "# Statistically significant"
   ]
  },
  {
   "cell_type": "markdown",
   "metadata": {},
   "source": [
    "## Wages and Education II\n",
    "\n",
    "Now perform a similar statistical test comparing the AdjustedCompensation of those with Bachelor's degrees and those with Doctorates. If you haven't already, be sure to explore the distribution of the AdjustedCompensation feature for any anomalies. "
   ]
  },
  {
   "cell_type": "code",
   "execution_count": 84,
   "metadata": {},
   "outputs": [],
   "source": [
    "df_bach = df[df['FormalEducation'] == \"Bachelor's degree\"][\"AdjustedCompensation\"].copy()\n",
    "df_bach.dropna(inplace = True)\n",
    "df_doct = df[df['FormalEducation'] == \"Doctoral degree\"][\"AdjustedCompensation\"].copy()\n",
    "df_doct.dropna(inplace = True)"
   ]
  },
  {
   "cell_type": "code",
   "execution_count": 89,
   "metadata": {},
   "outputs": [
    {
     "data": {
      "text/plain": [
       "count    9.670000e+02\n",
       "mean     2.956618e+07\n",
       "std      9.099981e+08\n",
       "min     -7.351631e+01\n",
       "25%      4.000000e+04\n",
       "50%      7.413192e+04\n",
       "75%      1.200000e+05\n",
       "max      2.829740e+10\n",
       "Name: AdjustedCompensation, dtype: float64"
      ]
     },
     "execution_count": 89,
     "metadata": {},
     "output_type": "execute_result"
    }
   ],
   "source": [
    "df_doct.describe()"
   ]
  },
  {
   "cell_type": "code",
   "execution_count": 90,
   "metadata": {},
   "outputs": [
    {
     "data": {
      "text/plain": [
       "count    1.107000e+03\n",
       "mean     6.488710e+04\n",
       "std      3.069359e+05\n",
       "min      0.000000e+00\n",
       "25%      1.126620e+04\n",
       "50%      3.839940e+04\n",
       "75%      8.023100e+04\n",
       "max      9.999999e+06\n",
       "Name: AdjustedCompensation, dtype: float64"
      ]
     },
     "execution_count": 90,
     "metadata": {},
     "output_type": "execute_result"
    }
   ],
   "source": [
    "df_bach.describe()"
   ]
  },
  {
   "cell_type": "code",
   "execution_count": 88,
   "metadata": {},
   "outputs": [
    {
     "name": "stdout",
     "output_type": "stream",
     "text": [
      "Median Salary for Bachelor's degree 38399.4\n",
      "Median Salary for Doctoral degree 74131.91999999997\n",
      "Sample Size for Bachelor's degree 1107\n",
      "Sample Size for Doctoral degree 967\n"
     ]
    },
    {
     "data": {
      "image/png": "[encoded data removed]",
      "text/plain": [
       "<Figure size 864x576 with 1 Axes>"
      ]
     },
     "metadata": {},
     "output_type": "display_data"
    }
   ],
   "source": [
    "print(f\"Median Salary for Bachelor's degree {df_bach.median()}\")\n",
    "print(f\"Median Salary for Doctoral degree {df_doct.median()}\")\n",
    "\n",
    "\n",
    "print(f\"Sample Size for Bachelor's degree {len(df_bach)}\")\n",
    "print(f\"Sample Size for Doctoral degree {len(df_doct)}\")\n",
    "\n",
    "with plt.style.context('fivethirtyeight'):\n",
    "    sns.set_context('poster')\n",
    "    plt.figure(figsize = (12, 8))\n",
    "    sns.distplot(df_bach, label = 'bach')\n",
    "    sns.distplot(df_doct, label = 'dr')\n",
    "    plt.legend()"
   ]
  },
  {
   "cell_type": "code",
   "execution_count": 87,
   "metadata": {},
   "outputs": [
    {
     "data": {
      "text/plain": [
       "0.15682381994720257"
      ]
     },
     "execution_count": 87,
     "metadata": {},
     "output_type": "execute_result"
    }
   ],
   "source": [
    "ttest_ind(df_bach, df_doct, equal_var = False)[1]/2\n",
    "# Not statistically significant - fail to reject the Null H."
   ]
  },
  {
   "cell_type": "code",
   "execution_count": 91,
   "metadata": {},
   "outputs": [],
   "source": [
    "# Null Hypothesis: Salary for Bach = Salary for Doct\n",
    "# Alternative Hypothesis: Salary for Bach != Salary for Doct"
   ]
  },
  {
   "cell_type": "code",
   "execution_count": 111,
   "metadata": {},
   "outputs": [
    {
     "data": {
      "text/plain": [
       "Ttest_indResult(statistic=-12.729717760067372, pvalue=1.2580514194611785e-35)"
      ]
     },
     "execution_count": 111,
     "metadata": {},
     "output_type": "execute_result"
    }
   ],
   "source": [
    "df_bach_200 = df_bach[(df_bach < 200000) & (df_bach > 0) ]\n",
    "df_doct_200 = df_doct[(df_doct < 200000) & (df_doct > 0)]\n",
    "ttest_ind(df_bach_200, df_doct_200, equal_var = False)"
   ]
  },
  {
   "cell_type": "code",
   "execution_count": 105,
   "metadata": {},
   "outputs": [
    {
     "data": {
      "text/plain": [
       "8         64184.800\n",
       "9         20882.400\n",
       "11         1483.900\n",
       "21        20000.000\n",
       "25        10858.848\n",
       "            ...    \n",
       "26031     39050.000\n",
       "26072     31878.000\n",
       "26101      3336.000\n",
       "26185     50000.000\n",
       "26195    100449.384\n",
       "Name: AdjustedCompensation, Length: 1067, dtype: float64"
      ]
     },
     "execution_count": 105,
     "metadata": {},
     "output_type": "execute_result"
    }
   ],
   "source": [
    "df_bach_200"
   ]
  },
  {
   "cell_type": "code",
   "execution_count": 109,
   "metadata": {},
   "outputs": [
    {
     "data": {
      "text/plain": [
       "count       902.000000\n",
       "mean      76052.867260\n",
       "std       49353.292850\n",
       "min           2.797536\n",
       "25%       36432.000000\n",
       "50%       70000.000000\n",
       "75%      107624.340000\n",
       "max      198628.200000\n",
       "Name: AdjustedCompensation, dtype: float64"
      ]
     },
     "execution_count": 109,
     "metadata": {},
     "output_type": "execute_result"
    }
   ],
   "source": [
    "df_doct_200.describe()"
   ]
  },
  {
   "cell_type": "code",
   "execution_count": 103,
   "metadata": {},
   "outputs": [
    {
     "data": {
      "text/plain": [
       "74100.0"
      ]
     },
     "execution_count": 103,
     "metadata": {},
     "output_type": "execute_result"
    }
   ],
   "source": [
    "7.41 * 10 ** 4"
   ]
  },
  {
   "cell_type": "code",
   "execution_count": 110,
   "metadata": {},
   "outputs": [
    {
     "name": "stdout",
     "output_type": "stream",
     "text": [
      "Median Salary for Bachelor's degree 36720.0\n",
      "Median Salary for Doctoral degree 70000.0\n",
      "Sample Size for Bachelor's degree 1067\n",
      "Sample Size for Doctoral degree 902\n"
     ]
    },
    {
     "data": {
      "image/png": "[encoded data removed]",
      "text/plain": [
       "<Figure size 864x576 with 1 Axes>"
      ]
     },
     "metadata": {},
     "output_type": "display_data"
    }
   ],
   "source": [
    "print(f\"Median Salary for Bachelor's degree {df_bach_200.median()}\")\n",
    "print(f\"Median Salary for Doctoral degree {df_doct_200.median()}\")\n",
    "\n",
    "\n",
    "print(f\"Sample Size for Bachelor's degree {len(df_bach_200)}\")\n",
    "print(f\"Sample Size for Doctoral degree {len(df_doct_200)}\")\n",
    "\n",
    "with plt.style.context('fivethirtyeight'):\n",
    "    sns.set_context('poster')\n",
    "    plt.figure(figsize = (12, 8))\n",
    "    sns.distplot(df_bach_200, label = 'bach')\n",
    "    sns.distplot(df_doct_200, label = 'dr')\n",
    "    plt.legend()"
   ]
  },
  {
   "cell_type": "code",
   "execution_count": 112,
   "metadata": {},
   "outputs": [
    {
     "data": {
      "text/plain": [
       "Ttest_indResult(statistic=-12.729717760067372, pvalue=1.2580514194611785e-35)"
      ]
     },
     "execution_count": 112,
     "metadata": {},
     "output_type": "execute_result"
    }
   ],
   "source": [
    "ttest_ind(df_bach_200, df_doct_200, equal_var = False)\n",
    "# Reject the Null Hypothesis"
   ]
  },
  {
   "cell_type": "code",
   "execution_count": 11,
   "metadata": {},
   "outputs": [
    {
     "name": "stdout",
     "output_type": "stream",
     "text": [
      "Median Values: \n",
      "s1:74131.92 \n",
      "s2:38399.4\n",
      "Sample sizes: \n",
      "s1: 967 \n",
      "s2: 1107\n",
      "Welch's t-test p-value: 0.1568238199472023\n",
      "\n",
      "\n",
      "Repeated Test with Ouliers Removed:\n",
      "Sample sizes: \n",
      "s1: 964 \n",
      "s2: 1103\n",
      "Welch's t-test p-value with outliers removed: 0.0\n"
     ]
    }
   ],
   "source": [
    "#Your code here"
   ]
  },
  {
   "cell_type": "markdown",
   "metadata": {},
   "source": [
    "## Wages and Education III\n",
    "\n",
    "Remember the multiple comparisons problem; rather than continuing on like this, perform an ANOVA test between the various 'FormalEducation' categories and their relation to 'AdjustedCompensation'."
   ]
  },
  {
   "cell_type": "code",
   "execution_count": 113,
   "metadata": {},
   "outputs": [
    {
     "data": {
      "text/plain": [
       "Master's degree                                                      8204\n",
       "Bachelor's degree                                                    4811\n",
       "Doctoral degree                                                      3543\n",
       "Some college/university study without earning a bachelor's degree     786\n",
       "Professional degree                                                   451\n",
       "I did not complete any formal education past high school              257\n",
       "I prefer not to answer                                                 90\n",
       "Name: FormalEducation, dtype: int64"
      ]
     },
     "execution_count": 113,
     "metadata": {},
     "output_type": "execute_result"
    }
   ],
   "source": [
    "df['FormalEducation'].value_counts()"
   ]
  },
  {
   "cell_type": "code",
   "execution_count": null,
   "metadata": {},
   "outputs": [],
   "source": [
    "formula = 'AdjustedCompensation ~ C(FormalEducation)'"
   ]
  },
  {
   "cell_type": "code",
   "execution_count": 119,
   "metadata": {},
   "outputs": [
    {
     "name": "stdout",
     "output_type": "stream",
     "text": [
      "                        df        sum_sq       mean_sq         F    PR(>F)\n",
      "C(FormalEducation)     6.0  6.540294e+17  1.090049e+17  0.590714  0.738044\n",
      "Residual            4335.0  7.999414e+20  1.845309e+17       NaN       NaN\n"
     ]
    }
   ],
   "source": [
    "lm = ols(formula, df).fit()\n",
    "table = sm.stats.anova_lm(lm, type = 2)\n",
    "print(table)\n",
    "# This shows that it is not statistically significant."
   ]
  },
  {
   "cell_type": "code",
   "execution_count": 124,
   "metadata": {},
   "outputs": [
    {
     "name": "stdout",
     "output_type": "stream",
     "text": [
      "                        df        sum_sq       mean_sq          F  \\\n",
      "C(FormalEducation)     6.0  3.784221e+11  6.307034e+10  29.564778   \n",
      "Residual            4171.0  8.897966e+12  2.133293e+09        NaN   \n",
      "\n",
      "                          PR(>F)  \n",
      "C(FormalEducation)  7.016635e-35  \n",
      "Residual                     NaN  \n"
     ]
    }
   ],
   "source": [
    "lm = ols(formula, df[df['AdjustedCompensation'] < 200000]).fit()\n",
    "table = sm.stats.anova_lm(lm, type = 2)\n",
    "print(table)\n",
    "# Becomes statistically significant when the outliers are removed."
   ]
  },
  {
   "cell_type": "code",
   "execution_count": null,
   "metadata": {},
   "outputs": [],
   "source": [
    "#Your code here"
   ]
  },
  {
   "cell_type": "markdown",
   "metadata": {},
   "source": [
    "## Additional Resources\n",
    "\n",
    "Here's the original source where the data was taken from:  \n",
    "    [Kaggle Machine Learning & Data Science Survey 2017](https://www.kaggle.com/kaggle/kaggle-survey-2017)"
   ]
  },
  {
   "cell_type": "markdown",
   "metadata": {},
   "source": [
    "## Summary\n",
    "\n",
    "In this lab, you practiced conducting actual hypothesis tests on actual data. From this, you saw how dependent results can be on the initial problem formulation, including preprocessing!"
   ]
  }
 ],
 "metadata": {
  "kernelspec": {
   "display_name": "learn-env",
   "language": "python",
   "name": "learn-env"
  },
  "language_info": {
   "codemirror_mode": {
    "name": "ipython",
    "version": 3
   },
   "file_extension": ".py",
   "mimetype": "text/x-python",
   "name": "python",
   "nbconvert_exporter": "python",
   "pygments_lexer": "ipython3",
   "version": "3.6.9"
  },
  "toc": {
   "base_numbering": 1,
   "nav_menu": {},
   "number_sections": true,
   "sideBar": true,
   "skip_h1_title": false,
   "title_cell": "Table of Contents",
   "title_sidebar": "Contents",
   "toc_cell": false,
   "toc_position": {},
   "toc_section_display": true,
   "toc_window_display": false
  }
 },
 "nbformat": 4,
 "nbformat_minor": 2
}
